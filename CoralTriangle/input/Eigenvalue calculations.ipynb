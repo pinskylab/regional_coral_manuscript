{
 "cells": [
  {
   "cell_type": "code",
   "execution_count": 168,
   "metadata": {},
   "outputs": [],
   "source": [
    "%matplotlib inline\n",
    "import numpy as np\n",
    "import seaborn as sns\n",
    "sns.set(style='ticks', palette='deep')\n",
    "from matplotlib import pyplot as plt\n",
    "from netCDF4 import Dataset"
   ]
  },
  {
   "cell_type": "code",
   "execution_count": 169,
   "metadata": {},
   "outputs": [
    {
     "name": "stdout",
     "output_type": "stream",
     "text": [
      "0.43475868416371183\n"
     ]
    }
   ],
   "source": [
    "D = np.load(\"D_Indo_2083_diag.npy\")\n",
    "eig  = np.linalg.eigvals(D)\n",
    "spec_rad = max(np.abs(eig))\n",
    "print spec_rad\n",
    "#print 1/spec_rad"
   ]
  },
  {
   "cell_type": "code",
   "execution_count": 28,
   "metadata": {},
   "outputs": [
    {
     "name": "stdout",
     "output_type": "stream",
     "text": [
      "1.184758684163719\n"
     ]
    }
   ],
   "source": [
    "beta = .5\n",
    "eig  = np.linalg.eigvals(D+np.identity(2083)*1.5*beta)\n",
    "spec_rad = max(np.abs(eig))\n",
    "print spec_rad"
   ]
  },
  {
   "cell_type": "code",
   "execution_count": null,
   "metadata": {},
   "outputs": [],
   "source": [
    "1.1847586841637112"
   ]
  },
  {
   "cell_type": "code",
   "execution_count": 23,
   "metadata": {},
   "outputs": [
    {
     "name": "stdout",
     "output_type": "stream",
     "text": [
      "0.5217104209964525\n"
     ]
    }
   ],
   "source": [
    "#D = np.load(\"D_Indo_2083_diag.npy\")\n",
    "beta = .5\n",
    "eig  = np.linalg.eigvals(D*beta*2.4)\n",
    "spec_rad = max(np.abs(eig))\n",
    "print spec_rad"
   ]
  },
  {
   "cell_type": "code",
   "execution_count": 26,
   "metadata": {},
   "outputs": [
    {
     "name": "stdout",
     "output_type": "stream",
     "text": [
      "(-0.7826206579181458+0j)\n"
     ]
    }
   ],
   "source": [
    "Q = D*beta - np.identity(2083)\n",
    "eig  = np.linalg.eigvals(Q)\n",
    "print eig.max()"
   ]
  },
  {
   "cell_type": "code",
   "execution_count": 29,
   "metadata": {},
   "outputs": [
    {
     "name": "stdout",
     "output_type": "stream",
     "text": [
      "3.1467582506202767\n"
     ]
    }
   ],
   "source": [
    "D = np.load(\"D_Caribbean_revised.npy\")\n",
    "eig  = np.linalg.eig(D)\n",
    "spec_rad = max(np.abs(eig[0]))\n",
    "spec_rad\n",
    "print 1/spec_rad"
   ]
  },
  {
   "cell_type": "code",
   "execution_count": 31,
   "metadata": {},
   "outputs": [
    {
     "data": {
      "text/plain": [
       "423"
      ]
     },
     "execution_count": 31,
     "metadata": {},
     "output_type": "execute_result"
    }
   ],
   "source": [
    "D.shape[0]"
   ]
  },
  {
   "cell_type": "code",
   "execution_count": 9,
   "metadata": {},
   "outputs": [
    {
     "name": "stdout",
     "output_type": "stream",
     "text": [
      "1.0677873609461037\n"
     ]
    }
   ],
   "source": [
    "D = np.load(\"D_Caribbean_revised.npy\")\n",
    "beta = .5\n",
    "eig  = np.linalg.eigvals(D+np.identity(D.shape[0])*1.5*beta)\n",
    "spec_rad = max(np.abs(eig))\n",
    "print spec_rad"
   ]
  },
  {
   "cell_type": "code",
   "execution_count": 10,
   "metadata": {},
   "outputs": [
    {
     "data": {
      "text/plain": [
       "1.0169195550275398"
      ]
     },
     "execution_count": 10,
     "metadata": {},
     "output_type": "execute_result"
    }
   ],
   "source": [
    "area_Carib = np.load(\"Caribbean_reef_areas.npy\")\n",
    "array1 = np.array([area_Carib])\n",
    "array2 = np.array([area_Carib]).T\n",
    "area_matrix_Carib = array1/array2\n",
    "beta = 3.2\n",
    "demo_matrix = D*beta*area_matrix_Carib\n",
    "eig  = np.linalg.eig(demo_matrix)\n",
    "max(np.abs(eig[0]))"
   ]
  },
  {
   "cell_type": "code",
   "execution_count": 35,
   "metadata": {},
   "outputs": [
    {
     "data": {
      "text/plain": [
       "(array([333.,  46.,  14.,  10.,   4.,   3.,   4.,   3.,   4.,   2.]),\n",
       " array([-1.        , -0.98675025, -0.9735005 , -0.96025075, -0.947001  ,\n",
       "        -0.93375125, -0.9205015 , -0.90725175, -0.894002  , -0.88075225,\n",
       "        -0.8675025 ]),\n",
       " <a list of 10 Patch objects>)"
      ]
     },
     "execution_count": 35,
     "metadata": {},
     "output_type": "execute_result"
    },
    {
     "data": {
      "image/png": "[encoded data removed]",
      "text/plain": [
       "<Figure size 432x288 with 1 Axes>"
      ]
     },
     "metadata": {
      "needs_background": "light"
     },
     "output_type": "display_data"
    }
   ],
   "source": [
    "Q = D*0.5 - np.identity(D.shape[0])\n",
    "plt.hist(Q.diagonal())"
   ]
  },
  {
   "cell_type": "code",
   "execution_count": 38,
   "metadata": {},
   "outputs": [
    {
     "data": {
      "text/plain": [
       "(array([1537.,  315.,  106.,   48.,   34.,   16.,   16.,    5.,    4.,\n",
       "           2.]),\n",
       " array([1.00000000e-06, 1.40082540e-02, 2.80155080e-02, 4.20227620e-02,\n",
       "        5.60300159e-02, 7.00372699e-02, 8.40445239e-02, 9.80517779e-02,\n",
       "        1.12059032e-01, 1.26066286e-01, 1.40073540e-01]),\n",
       " <a list of 10 Patch objects>)"
      ]
     },
     "execution_count": 38,
     "metadata": {},
     "output_type": "execute_result"
    },
    {
     "data": {
      "image/png": "[encoded data removed]",
      "text/plain": [
       "<Figure size 432x288 with 1 Axes>"
      ]
     },
     "metadata": {
      "needs_background": "light"
     },
     "output_type": "display_data"
    }
   ],
   "source": [
    "plt.hist(D.diagonal())"
   ]
  },
  {
   "cell_type": "code",
   "execution_count": 12,
   "metadata": {},
   "outputs": [
    {
     "name": "stdout",
     "output_type": "stream",
     "text": [
      "1.9602850944039498\n"
     ]
    }
   ],
   "source": [
    "D = np.load(\"D_SWP_2001_revised.npy\")\n",
    "eig  = np.linalg.eig(D)\n",
    "spec_rad = max(np.abs(eig[0]))\n",
    "spec_rad\n",
    "print 1/spec_rad"
   ]
  },
  {
   "cell_type": "code",
   "execution_count": 34,
   "metadata": {},
   "outputs": [
    {
     "name": "stdout",
     "output_type": "stream",
     "text": [
      "1.2601298800132283\n"
     ]
    }
   ],
   "source": [
    "beta = .5\n",
    "eig  = np.linalg.eigvals(D+np.identity(D.shape[0])*1.5*beta)\n",
    "spec_rad = max(np.abs(eig))\n",
    "print spec_rad"
   ]
  },
  {
   "cell_type": "code",
   "execution_count": 13,
   "metadata": {},
   "outputs": [
    {
     "data": {
      "text/plain": [
       "1.0202597600264507"
      ]
     },
     "execution_count": 13,
     "metadata": {},
     "output_type": "execute_result"
    }
   ],
   "source": [
    "area_SWP = np.load(\"SWP_reef_area.npy\")\n",
    "array1 = np.array([area_SWP])\n",
    "array2 = np.array([area_SWP]).T\n",
    "area_matrix_SWP = array1/array2\n",
    "beta = 2.0\n",
    "demo_matrix = D*beta*area_matrix_SWP\n",
    "eig  = np.linalg.eig(demo_matrix)\n",
    "max(np.abs(eig[0]))"
   ]
  },
  {
   "cell_type": "code",
   "execution_count": 170,
   "metadata": {},
   "outputs": [
    {
     "data": {
      "text/plain": [
       "1.0202597600264487"
      ]
     },
     "execution_count": 170,
     "metadata": {},
     "output_type": "execute_result"
    }
   ],
   "source": [
    "area_SWP = np.load(\"SWP_reef_area.npy\")\n",
    "array1 = np.array([area_SWP])\n",
    "array2 = np.array([area_SWP]).T\n",
    "area_matrix_SWP = array1/array2\n",
    "beta = 2.0\n",
    "demo_matrix = D*beta\n",
    "eig  = np.linalg.eig(demo_matrix)\n",
    "max(np.abs(eig[0]))"
   ]
  },
  {
   "cell_type": "code",
   "execution_count": 175,
   "metadata": {},
   "outputs": [
    {
     "data": {
      "text/plain": [
       "1.043420841992906"
      ]
     },
     "execution_count": 175,
     "metadata": {},
     "output_type": "execute_result"
    }
   ],
   "source": [
    "area_CT = np.load(\"Indonesia_reef_area_2083.npy\")\n",
    "array1 = np.array([area_CT])\n",
    "array2 = np.array([area_CT]).T\n",
    "area_matrix_CT = array1/array2\n",
    "beta = 2.4\n",
    "demo_matrix = D*beta*area_matrix_CT\n",
    "eig  = np.linalg.eig(demo_matrix)\n",
    "max(np.abs(eig[0]))"
   ]
  },
  {
   "cell_type": "code",
   "execution_count": 26,
   "metadata": {},
   "outputs": [
    {
     "data": {
      "text/plain": [
       "0.999944973576533"
      ]
     },
     "execution_count": 26,
     "metadata": {},
     "output_type": "execute_result"
    }
   ],
   "source": [
    "beta = 2.3\n",
    "demo_matrix = D*beta\n",
    "eig  = np.linalg.eig(demo_matrix)\n",
    "max(np.abs(eig[0]))"
   ]
  },
  {
   "cell_type": "code",
   "execution_count": 6,
   "metadata": {},
   "outputs": [],
   "source": [
    "eig = np.linalg.eig(D)"
   ]
  },
  {
   "cell_type": "code",
   "execution_count": 10,
   "metadata": {},
   "outputs": [
    {
     "data": {
      "text/plain": [
       "(2083,)"
      ]
     },
     "execution_count": 10,
     "metadata": {},
     "output_type": "execute_result"
    }
   ],
   "source": [
    "eig[0].shape"
   ]
  },
  {
   "cell_type": "code",
   "execution_count": 13,
   "metadata": {},
   "outputs": [
    {
     "data": {
      "text/plain": [
       "(0.43475868416371183+0j)"
      ]
     },
     "execution_count": 13,
     "metadata": {},
     "output_type": "execute_result"
    }
   ],
   "source": [
    "max(eig[0])"
   ]
  },
  {
   "cell_type": "code",
   "execution_count": 14,
   "metadata": {},
   "outputs": [
    {
     "data": {
      "text/plain": [
       "(-0.012855146989675832-0.009497057679597803j)"
      ]
     },
     "execution_count": 14,
     "metadata": {},
     "output_type": "execute_result"
    }
   ],
   "source": [
    "min(eig[0])"
   ]
  },
  {
   "cell_type": "code",
   "execution_count": 24,
   "metadata": {},
   "outputs": [],
   "source": [
    "beta = 1.5\n",
    "demo_matrix = 1.5*D*beta"
   ]
  },
  {
   "cell_type": "code",
   "execution_count": 25,
   "metadata": {},
   "outputs": [],
   "source": [
    "eig  = np.linalg.eig(demo_matrix)"
   ]
  },
  {
   "cell_type": "code",
   "execution_count": 17,
   "metadata": {},
   "outputs": [
    {
     "data": {
      "text/plain": [
       "(0.6521380262455668+0j)"
      ]
     },
     "execution_count": 17,
     "metadata": {},
     "output_type": "execute_result"
    }
   ],
   "source": [
    "max(eig[0])"
   ]
  },
  {
   "cell_type": "code",
   "execution_count": 26,
   "metadata": {},
   "outputs": [
    {
     "data": {
      "text/plain": [
       "(0.9782070393683523+0j)"
      ]
     },
     "execution_count": 26,
     "metadata": {},
     "output_type": "execute_result"
    }
   ],
   "source": [
    "max(eig[0])"
   ]
  },
  {
   "cell_type": "code",
   "execution_count": 71,
   "metadata": {},
   "outputs": [],
   "source": [
    "D = np.load(\"D_Caribbean_revised.npy\")"
   ]
  },
  {
   "cell_type": "code",
   "execution_count": 38,
   "metadata": {},
   "outputs": [
    {
     "data": {
      "text/plain": [
       "(1.001030186980233+0j)"
      ]
     },
     "execution_count": 38,
     "metadata": {},
     "output_type": "execute_result"
    }
   ],
   "source": [
    "beta = 2.1\n",
    "demo_matrix = 1.5*D*beta\n",
    "eig  = np.linalg.eig(demo_matrix)\n",
    "max(eig[0])"
   ]
  },
  {
   "cell_type": "code",
   "execution_count": 61,
   "metadata": {},
   "outputs": [],
   "source": [
    "D = np.load(\"D_SWP_2001_revised.npy\")"
   ]
  },
  {
   "cell_type": "code",
   "execution_count": 81,
   "metadata": {},
   "outputs": [
    {
     "data": {
      "text/plain": [
       "(1.043420841992905+0j)"
      ]
     },
     "execution_count": 81,
     "metadata": {},
     "output_type": "execute_result"
    }
   ],
   "source": [
    "beta = 2.4\n",
    "demo_matrix = D*beta\n",
    "eig  = np.linalg.eig(demo_matrix)\n",
    "max(eig[0])"
   ]
  },
  {
   "cell_type": "code",
   "execution_count": 34,
   "metadata": {},
   "outputs": [
    {
     "data": {
      "text/plain": [
       "2.3"
      ]
     },
     "execution_count": 34,
     "metadata": {},
     "output_type": "execute_result"
    }
   ],
   "source": [
    "beta"
   ]
  },
  {
   "cell_type": "code",
   "execution_count": 95,
   "metadata": {},
   "outputs": [],
   "source": [
    "D1 = np.matrix([[1, 1],\n",
    "                [1, 3]])"
   ]
  },
  {
   "cell_type": "code",
   "execution_count": 96,
   "metadata": {},
   "outputs": [],
   "source": [
    "D2 = np.matrix([[2, 5],\n",
    "                [2, 2]])"
   ]
  },
  {
   "cell_type": "code",
   "execution_count": 46,
   "metadata": {},
   "outputs": [
    {
     "data": {
      "text/plain": [
       "1.0"
      ]
     },
     "execution_count": 46,
     "metadata": {},
     "output_type": "execute_result"
    }
   ],
   "source": [
    "beta=1\n",
    "demo_matrix = D*beta\n",
    "eig  = np.linalg.eig(demo_matrix)\n",
    "max(eig[0])"
   ]
  },
  {
   "cell_type": "code",
   "execution_count": 97,
   "metadata": {},
   "outputs": [
    {
     "data": {
      "text/plain": [
       "matrix([[2, 5],\n",
       "        [2, 6]])"
      ]
     },
     "execution_count": 97,
     "metadata": {},
     "output_type": "execute_result"
    }
   ],
   "source": [
    "np.multiply(D1,D2)"
   ]
  },
  {
   "cell_type": "code",
   "execution_count": 14,
   "metadata": {},
   "outputs": [],
   "source": [
    "area_Carib = np.load(\"Caribbean_reef_areas.npy\")\n",
    "area_CT = np.load(\"Indonesia_reef_area_2083.npy\")\n",
    "area_SWP = np.load(\"SWP_reef_area.npy\")"
   ]
  },
  {
   "cell_type": "code",
   "execution_count": 15,
   "metadata": {},
   "outputs": [],
   "source": [
    "array1 = np.array([area_Carib])\n",
    "array2 = np.array([area_Carib]).T\n",
    "area_matrix_Carib = array1/array2\n",
    "\n",
    "array1 = np.array([area_CT])\n",
    "array2 = np.array([area_CT]).T\n",
    "area_matrix_CT = array1/array2\n",
    "\n",
    "array1 = np.array([area_SWP])\n",
    "array2 = np.array([area_SWP]).T\n",
    "area_matrix_SWP = array1/array2"
   ]
  },
  {
   "cell_type": "code",
   "execution_count": 40,
   "metadata": {},
   "outputs": [],
   "source": []
  },
  {
   "cell_type": "code",
   "execution_count": 41,
   "metadata": {},
   "outputs": [
    {
     "data": {
      "text/plain": [
       "(423, 423)"
      ]
     },
     "execution_count": 41,
     "metadata": {},
     "output_type": "execute_result"
    }
   ],
   "source": [
    "area_matrix_Carib.shape"
   ]
  },
  {
   "cell_type": "code",
   "execution_count": 42,
   "metadata": {},
   "outputs": [
    {
     "data": {
      "text/plain": [
       "array([[1.        , 0.11764706, 0.14705882, 0.11764706, 0.14705882],\n",
       "       [8.5       , 1.        , 1.25      , 1.        , 1.25      ],\n",
       "       [6.8       , 0.8       , 1.        , 0.8       , 1.        ],\n",
       "       [8.5       , 1.        , 1.25      , 1.        , 1.25      ],\n",
       "       [6.8       , 0.8       , 1.        , 0.8       , 1.        ]])"
      ]
     },
     "execution_count": 42,
     "metadata": {},
     "output_type": "execute_result"
    }
   ],
   "source": [
    "area_matrix_Carib[:5,:5]"
   ]
  },
  {
   "cell_type": "code",
   "execution_count": 124,
   "metadata": {},
   "outputs": [
    {
     "data": {
      "text/plain": [
       "array([[2.176e+09, 2.560e+08, 3.200e+08, 2.560e+08, 3.200e+08]])"
      ]
     },
     "execution_count": 124,
     "metadata": {},
     "output_type": "execute_result"
    }
   ],
   "source": [
    "array1[:,:5]"
   ]
  },
  {
   "cell_type": "code",
   "execution_count": 126,
   "metadata": {},
   "outputs": [
    {
     "data": {
      "text/plain": [
       "array([[2.176e+09],\n",
       "       [2.560e+08],\n",
       "       [3.200e+08],\n",
       "       [2.560e+08],\n",
       "       [3.200e+08]])"
      ]
     },
     "execution_count": 126,
     "metadata": {},
     "output_type": "execute_result"
    }
   ],
   "source": [
    "array2[:5,:]"
   ]
  },
  {
   "cell_type": "code",
   "execution_count": 135,
   "metadata": {},
   "outputs": [],
   "source": [
    "area_matrix_Carib2 = array2/array1"
   ]
  },
  {
   "cell_type": "code",
   "execution_count": 136,
   "metadata": {},
   "outputs": [
    {
     "data": {
      "text/plain": [
       "array([[1.        , 8.5       , 6.8       , 8.5       , 6.8       ],\n",
       "       [0.11764706, 1.        , 0.8       , 1.        , 0.8       ],\n",
       "       [0.14705882, 1.25      , 1.        , 1.25      , 1.        ],\n",
       "       [0.11764706, 1.        , 0.8       , 1.        , 0.8       ],\n",
       "       [0.14705882, 1.25      , 1.        , 1.25      , 1.        ]])"
      ]
     },
     "execution_count": 136,
     "metadata": {},
     "output_type": "execute_result"
    }
   ],
   "source": [
    "area_matrix_Carib2[:5,:5]"
   ]
  },
  {
   "cell_type": "code",
   "execution_count": 131,
   "metadata": {},
   "outputs": [
    {
     "data": {
      "text/plain": [
       "8.5"
      ]
     },
     "execution_count": 131,
     "metadata": {},
     "output_type": "execute_result"
    }
   ],
   "source": [
    "2.176e+09/2.560e+08"
   ]
  },
  {
   "cell_type": "code",
   "execution_count": 70,
   "metadata": {},
   "outputs": [
    {
     "name": "stdout",
     "output_type": "stream",
     "text": [
      "0.908893680473056\n"
     ]
    }
   ],
   "source": [
    "D0 = np.load(\"D_Caribbean_revised.npy\")\n",
    "D = D0*area_matrix_Carib\n",
    "beta = .5\n",
    "eig1  = np.linalg.eigvals((D+np.identity(D.shape[0])*1.5)*beta)\n",
    "spec_rad = max(np.abs(eig1))\n",
    "print spec_rad"
   ]
  },
  {
   "cell_type": "code",
   "execution_count": 58,
   "metadata": {},
   "outputs": [
    {
     "data": {
      "text/plain": [
       "(array([298.,  75.,  22.,   9.,   5.,   2.,   5.,   4.,   2.,   1.]),\n",
       " array([0.73191887-0.01110156j, 0.76550572-0.0099914j ,\n",
       "        0.79909257-0.00888125j, 0.83267942-0.00777109j,\n",
       "        0.86626627-0.00666093j, 0.89985312-0.00555078j,\n",
       "        0.93343996-0.00444062j, 0.96702681-0.00333047j,\n",
       "        1.00061366-0.00222031j, 1.03420051-0.00111016j,\n",
       "        1.06778736+0.j        ]),\n",
       " <a list of 10 Patch objects>)"
      ]
     },
     "execution_count": 58,
     "metadata": {},
     "output_type": "execute_result"
    },
    {
     "data": {
      "image/png": "[encoded data removed]",
      "text/plain": [
       "<Figure size 432x288 with 1 Axes>"
      ]
     },
     "metadata": {
      "needs_background": "light"
     },
     "output_type": "display_data"
    }
   ],
   "source": [
    "plt.hist(eig1,alpha=0.5)\n",
    "plt.hist(eig0,alpha=0.5)"
   ]
  },
  {
   "cell_type": "code",
   "execution_count": 56,
   "metadata": {},
   "outputs": [
    {
     "name": "stdout",
     "output_type": "stream",
     "text": [
      "1.0677873609461037\n"
     ]
    }
   ],
   "source": [
    "D0 = np.load(\"D_Caribbean_revised.npy\")\n",
    "D = D0\n",
    "beta = .5\n",
    "eig0  = np.linalg.eigvals(D+np.identity(D.shape[0])*1.5*beta)\n",
    "spec_rad = max(np.abs(eig0))\n",
    "print spec_rad"
   ]
  },
  {
   "cell_type": "code",
   "execution_count": 87,
   "metadata": {},
   "outputs": [
    {
     "name": "stdout",
     "output_type": "stream",
     "text": [
      "0.9673793420818557\n"
     ]
    }
   ],
   "source": [
    "D0 = np.load(\"D_Indo_2083_diag.npy\")\n",
    "D = D0*area_matrix_CT\n",
    "beta = .5\n",
    "eig  = np.linalg.eigvals((D+np.identity(D.shape[0])*1.5)*beta)\n",
    "spec_rad = max(np.abs(eig))\n",
    "print spec_rad"
   ]
  },
  {
   "cell_type": "code",
   "execution_count": 88,
   "metadata": {},
   "outputs": [
    {
     "name": "stdout",
     "output_type": "stream",
     "text": [
      "0.9673793420818546\n"
     ]
    }
   ],
   "source": [
    "D0 = np.load(\"D_Indo_2083_diag.npy\")\n",
    "D = D0\n",
    "beta = .5\n",
    "eig  = np.linalg.eigvals((D+np.identity(D.shape[0])*1.5)*beta)\n",
    "spec_rad = max(np.abs(eig))\n",
    "print spec_rad"
   ]
  },
  {
   "cell_type": "code",
   "execution_count": 84,
   "metadata": {},
   "outputs": [
    {
     "name": "stdout",
     "output_type": "stream",
     "text": [
      "1.1325974100099208\n"
     ]
    }
   ],
   "source": [
    "D0 = np.load(\"D_SWP_2001_revised.npy\")\n",
    "D = D0*area_matrix_SWP\n",
    "beta = .5\n",
    "eig  = np.linalg.eigvals((D+np.identity(D.shape[0]))*1.5*beta)\n",
    "spec_rad = max(np.abs(eig))\n",
    "print spec_rad"
   ]
  },
  {
   "cell_type": "code",
   "execution_count": 63,
   "metadata": {},
   "outputs": [
    {
     "name": "stdout",
     "output_type": "stream",
     "text": [
      "1.2601298800132283\n"
     ]
    }
   ],
   "source": [
    "D0 = np.load(\"D_SWP_2001_revised.npy\")\n",
    "D = D0\n",
    "beta = .5\n",
    "eig  = np.linalg.eigvals(D+np.identity(D.shape[0])*1.5*beta)\n",
    "spec_rad = max(np.abs(eig))\n",
    "print spec_rad"
   ]
  },
  {
   "cell_type": "code",
   "execution_count": 64,
   "metadata": {},
   "outputs": [
    {
     "name": "stdout",
     "output_type": "stream",
     "text": [
      "1.005064940006611\n"
     ]
    }
   ],
   "source": [
    "D0 = np.load(\"D_SWP_2001_revised.npy\")\n",
    "D = D0\n",
    "beta = .5\n",
    "eig  = np.linalg.eigvals((D+np.identity(D.shape[0])*1.5)*beta)\n",
    "spec_rad = max(np.abs(eig))\n",
    "print spec_rad"
   ]
  },
  {
   "cell_type": "code",
   "execution_count": 65,
   "metadata": {},
   "outputs": [
    {
     "name": "stdout",
     "output_type": "stream",
     "text": [
      "0.9673793420818546\n"
     ]
    }
   ],
   "source": [
    "D0 = np.load(\"D_Indo_2083_diag.npy\")\n",
    "D = D0\n",
    "beta = .5\n",
    "eig  = np.linalg.eigvals((D+np.identity(D.shape[0])*1.5)*beta)\n",
    "spec_rad = max(np.abs(eig))\n",
    "print spec_rad"
   ]
  },
  {
   "cell_type": "code",
   "execution_count": 67,
   "metadata": {},
   "outputs": [
    {
     "name": "stdout",
     "output_type": "stream",
     "text": [
      "0.9088936804730517\n"
     ]
    }
   ],
   "source": [
    "D0 = np.load(\"D_Caribbean_revised.npy\")\n",
    "D = D0\n",
    "beta = .5\n",
    "eig  = np.linalg.eigvals((D+np.identity(D.shape[0])*1.5)*beta)\n",
    "spec_rad = max(np.abs(eig))\n",
    "print spec_rad"
   ]
  },
  {
   "cell_type": "code",
   "execution_count": 89,
   "metadata": {},
   "outputs": [
    {
     "name": "stdout",
     "output_type": "stream",
     "text": [
      "0.908893680473056\n"
     ]
    }
   ],
   "source": [
    "D0 = np.load(\"D_Caribbean_revised.npy\")\n",
    "D = D0*area_matrix_Carib\n",
    "beta = .5\n",
    "eig  = np.linalg.eigvals((D+np.identity(D.shape[0])*1.5)*beta)\n",
    "spec_rad = max(np.abs(eig))\n",
    "print spec_rad"
   ]
  },
  {
   "cell_type": "code",
   "execution_count": 90,
   "metadata": {},
   "outputs": [
    {
     "name": "stdout",
     "output_type": "stream",
     "text": [
      "1.005064940006611\n"
     ]
    }
   ],
   "source": [
    "D0 = np.load(\"D_SWP_2001_revised.npy\")\n",
    "D = D0\n",
    "beta = .5\n",
    "eig  = np.linalg.eigvals((D+np.identity(D.shape[0])*1.5)*beta)\n",
    "spec_rad = max(np.abs(eig))\n",
    "print spec_rad"
   ]
  },
  {
   "cell_type": "code",
   "execution_count": 91,
   "metadata": {},
   "outputs": [
    {
     "name": "stdout",
     "output_type": "stream",
     "text": [
      "1.0050649400066138\n"
     ]
    }
   ],
   "source": [
    "D0 = np.load(\"D_SWP_2001_revised.npy\")\n",
    "D = D0*area_matrix_SWP\n",
    "beta = .5\n",
    "eig  = np.linalg.eigvals((D+np.identity(D.shape[0])*1.5)*beta)\n",
    "spec_rad = max(np.abs(eig))\n",
    "print spec_rad"
   ]
  },
  {
   "cell_type": "code",
   "execution_count": 28,
   "metadata": {},
   "outputs": [],
   "source": [
    "D0 = np.load(\"D_Indo_2083_diag.npy\")"
   ]
  },
  {
   "cell_type": "code",
   "execution_count": 20,
   "metadata": {},
   "outputs": [
    {
     "name": "stdout",
     "output_type": "stream",
     "text": [
      "1.0002586841637087\n"
     ]
    }
   ],
   "source": [
    "D = D0*area_matrix_CT\n",
    "beta = .377\n",
    "eig  = np.linalg.eigvals(D+np.identity(D.shape[0])*1.5*beta)\n",
    "spec_rad = max(np.abs(eig))\n",
    "print spec_rad"
   ]
  },
  {
   "cell_type": "code",
   "execution_count": 33,
   "metadata": {},
   "outputs": [
    {
     "name": "stdout",
     "output_type": "stream",
     "text": [
      "(0.9673793420818546+0j)\n"
     ]
    }
   ],
   "source": [
    "D = D0\n",
    "beta =.5\n",
    "D_growth = np.identity(D.shape[0])*1.5 + D\n",
    "eig  = np.linalg.eigvals(D_growth*beta)\n",
    "spec_rad = max(eig)\n",
    "print spec_rad"
   ]
  },
  {
   "cell_type": "code",
   "execution_count": 62,
   "metadata": {},
   "outputs": [
    {
     "name": "stdout",
     "output_type": "stream",
     "text": [
      "(0.9088936804730517+0j)\n"
     ]
    }
   ],
   "source": [
    "D = np.load(\"D_Caribbean_revised.npy\")\n",
    "beta =.5\n",
    "D_growth = np.identity(D.shape[0])*1.5 + D\n",
    "eig  = np.linalg.eigvals(D_growth*beta)\n",
    "spec_rad = max(eig)\n",
    "print spec_rad"
   ]
  },
  {
   "cell_type": "code",
   "execution_count": 92,
   "metadata": {},
   "outputs": [
    {
     "name": "stdout",
     "output_type": "stream",
     "text": [
      "1.0002873609461043\n"
     ]
    }
   ],
   "source": [
    "D0 = np.load(\"D_Caribbean_revised.npy\")\n",
    "D = D0\n",
    "beta = .455\n",
    "eig0  = np.linalg.eigvals(D+np.identity(D.shape[0])*1.5*beta)\n",
    "spec_rad = max(np.abs(eig0))\n",
    "print spec_rad"
   ]
  },
  {
   "cell_type": "code",
   "execution_count": null,
   "metadata": {},
   "outputs": [],
   "source": [
    "D0 = np.load(\"D_Caribbean_revised.npy\")\n",
    "D = D0\n",
    "beta = .5\n",
    "eig0  = np.linalg.eigvals(D+np.identity(D.shape[0])*1.5*beta)\n",
    "spec_rad = max(np.abs(eig0))\n",
    "print spec_rad"
   ]
  },
  {
   "cell_type": "code",
   "execution_count": 37,
   "metadata": {},
   "outputs": [
    {
     "name": "stdout",
     "output_type": "stream",
     "text": [
      "(2.010129880013222+0j)\n",
      "(1.005064940006611+0j)\n"
     ]
    }
   ],
   "source": [
    "D = np.load(\"D_SWP_2001_revised.npy\")\n",
    "beta =.5\n",
    "D_growth = np.identity(D.shape[0])*1.5 + D\n",
    "eig  = np.linalg.eigvals(D_growth)\n",
    "spec_rad = max(eig)\n",
    "chi = spec_rad * beta\n",
    "print spec_rad\n",
    "print chi"
   ]
  },
  {
   "cell_type": "code",
   "execution_count": 61,
   "metadata": {},
   "outputs": [
    {
     "name": "stdout",
     "output_type": "stream",
     "text": [
      "1.8177873609461035\n",
      "0.9088936804730517\n"
     ]
    }
   ],
   "source": [
    "D = np.load(\"D_Caribbean_revised.npy\")\n",
    "beta =.5\n",
    "D_growth = np.identity(D.shape[0])*1.5 + D\n",
    "eig  = np.linalg.eigvals(D_growth)\n",
    "spec_rad = max(np.abs(eig))\n",
    "chi = spec_rad * beta\n",
    "print spec_rad\n",
    "print chi"
   ]
  },
  {
   "cell_type": "code",
   "execution_count": 53,
   "metadata": {},
   "outputs": [
    {
     "data": {
      "text/plain": [
       "0.52999"
      ]
     },
     "execution_count": 53,
     "metadata": {},
     "output_type": "execute_result"
    }
   ],
   "source": [
    "max(D.diagonal()*(beta+1.5))"
   ]
  },
  {
   "cell_type": "code",
   "execution_count": 58,
   "metadata": {},
   "outputs": [
    {
     "name": "stdout",
     "output_type": "stream",
     "text": [
      "1.9347586841637079\n",
      "0.9673793420818539\n"
     ]
    }
   ],
   "source": [
    "D = np.load(\"D_Indo_2083_diag.npy\")\n",
    "beta =.5\n",
    "D_growth = np.identity(D.shape[0])*1.5 + D\n",
    "eig  = np.linalg.eigvals(D_growth)\n",
    "spec_rad = max(np.abs(eig))\n",
    "chi = spec_rad * beta\n",
    "print spec_rad\n",
    "print chi"
   ]
  },
  {
   "cell_type": "code",
   "execution_count": 94,
   "metadata": {},
   "outputs": [
    {
     "name": "stdout",
     "output_type": "stream",
     "text": [
      "1.0\n"
     ]
    }
   ],
   "source": [
    "eig  = np.linalg.eigvals(np.identity(10)*1.)\n",
    "spec_rad = max(np.abs(eig))\n",
    "print spec_rad"
   ]
  },
  {
   "cell_type": "code",
   "execution_count": 99,
   "metadata": {},
   "outputs": [
    {
     "data": {
      "text/plain": [
       "3.141592653589793"
      ]
     },
     "execution_count": 99,
     "metadata": {},
     "output_type": "execute_result"
    }
   ],
   "source": [
    "np.pi"
   ]
  },
  {
   "cell_type": "markdown",
   "metadata": {},
   "source": [
    "## Final Calcs"
   ]
  },
  {
   "cell_type": "code",
   "execution_count": 103,
   "metadata": {},
   "outputs": [
    {
     "name": "stdout",
     "output_type": "stream",
     "text": [
      "0.5984134206021491\n",
      "0.9162007815482548\n",
      "0.4581003907741274\n"
     ]
    }
   ],
   "source": [
    "D = np.load(\"D_Caribbean_revised.npy\")\n",
    "beta =.5\n",
    "w = 1.\n",
    "rmax = 1.5/(np.sqrt(2*np.pi*pow(w,2)))\n",
    "D_growth = np.identity(D.shape[0])*rmax + D\n",
    "eig  = np.linalg.eigvals(D_growth)\n",
    "spec_rad = max(np.abs(eig))\n",
    "chi = spec_rad * beta\n",
    "print rmax\n",
    "print spec_rad\n",
    "print chi"
   ]
  },
  {
   "cell_type": "code",
   "execution_count": null,
   "metadata": {},
   "outputs": [],
   "source": [
    "Caribbean_reef_areas.npy"
   ]
  },
  {
   "cell_type": "code",
   "execution_count": 106,
   "metadata": {},
   "outputs": [
    {
     "name": "stdout",
     "output_type": "stream",
     "text": [
      "0.19947114020071635\n",
      "0.5172585011468223\n",
      "0.25862925057341113\n"
     ]
    }
   ],
   "source": [
    "D = np.load(\"D_Caribbean_revised.npy\")\n",
    "beta =.5\n",
    "w = 3.\n",
    "rmax = 1.5/(np.sqrt(2*np.pi*pow(w,2)))\n",
    "D_growth = np.identity(D.shape[0])*rmax + D\n",
    "eig  = np.linalg.eigvals(D_growth)\n",
    "spec_rad = max(np.abs(eig))\n",
    "chi = spec_rad * beta\n",
    "print rmax\n",
    "print spec_rad\n",
    "print chi"
   ]
  },
  {
   "cell_type": "code",
   "execution_count": null,
   "metadata": {},
   "outputs": [],
   "source": [
    "D = np.load(\"D_Caribbean_revised.npy\")\n",
    "beta =.5\n",
    "w = 1.\n",
    "rmax = 1.5/(np.sqrt(2*np.pi*pow(w,2)))\n",
    "D_growth = np.identity(D.shape[0])*rmax + D\n",
    "eig  = np.linalg.eigvals(D_growth)\n",
    "spec_rad = max(np.abs(eig))\n",
    "chi = spec_rad * beta\n",
    "print rmax\n",
    "print spec_rad\n",
    "print chi"
   ]
  },
  {
   "cell_type": "code",
   "execution_count": 107,
   "metadata": {},
   "outputs": [
    {
     "data": {
      "text/plain": [
       "array([[1.00000000e+00, 1.17647059e-01, 1.47058824e-01, ...,\n",
       "        2.94117647e-02, 8.82352941e-02, 2.94117647e-02],\n",
       "       [8.50000000e+00, 1.00000000e+00, 1.25000000e+00, ...,\n",
       "        2.50000000e-01, 7.50000000e-01, 2.50000000e-01],\n",
       "       [6.80000000e+00, 8.00000000e-01, 1.00000000e+00, ...,\n",
       "        2.00000000e-01, 6.00000000e-01, 2.00000000e-01],\n",
       "       ...,\n",
       "       [3.40000000e+01, 4.00000000e+00, 5.00000000e+00, ...,\n",
       "        1.00000000e+00, 3.00000000e+00, 1.00000000e+00],\n",
       "       [1.13333333e+01, 1.33333333e+00, 1.66666667e+00, ...,\n",
       "        3.33333333e-01, 1.00000000e+00, 3.33333333e-01],\n",
       "       [3.40000000e+01, 4.00000000e+00, 5.00000000e+00, ...,\n",
       "        1.00000000e+00, 3.00000000e+00, 1.00000000e+00]])"
      ]
     },
     "execution_count": 107,
     "metadata": {},
     "output_type": "execute_result"
    }
   ],
   "source": [
    "area_matrix_Carib."
   ]
  },
  {
   "cell_type": "code",
   "execution_count": 109,
   "metadata": {},
   "outputs": [
    {
     "data": {
      "text/plain": [
       "array([[2.558710e-01, 0.000000e+00, 0.000000e+00, ..., 0.000000e+00,\n",
       "        0.000000e+00, 0.000000e+00],\n",
       "       [0.000000e+00, 1.745100e-02, 2.570550e-03, ..., 0.000000e+00,\n",
       "        1.537500e-05, 0.000000e+00],\n",
       "       [0.000000e+00, 5.202456e-04, 1.056020e-01, ..., 0.000000e+00,\n",
       "        2.082000e-06, 0.000000e+00],\n",
       "       ...,\n",
       "       [0.000000e+00, 0.000000e+00, 0.000000e+00, ..., 0.000000e+00,\n",
       "        0.000000e+00, 0.000000e+00],\n",
       "       [0.000000e+00, 0.000000e+00, 0.000000e+00, ..., 0.000000e+00,\n",
       "        1.390860e-02, 0.000000e+00],\n",
       "       [0.000000e+00, 0.000000e+00, 0.000000e+00, ..., 0.000000e+00,\n",
       "        0.000000e+00, 0.000000e+00]])"
      ]
     },
     "execution_count": 109,
     "metadata": {},
     "output_type": "execute_result"
    }
   ],
   "source": [
    "area_matrix_Carib*D"
   ]
  },
  {
   "cell_type": "code",
   "execution_count": 127,
   "metadata": {},
   "outputs": [
    {
     "name": "stdout",
     "output_type": "stream",
     "text": [
      "1.598413420602149\n",
      "1.7573071010752057\n"
     ]
    }
   ],
   "source": [
    "D = np.load(\"D_Caribbean_revised.npy\")\n",
    "A = area_matrix_Carib\n",
    "beta =.5\n",
    "w = 1.\n",
    "rmax = 1.5/(np.sqrt(2*np.pi*pow(w,2))) +1\n",
    "D_growth = beta * (D * A)\n",
    "eig  = np.linalg.eigvals(D_growth + np.identity(D.shape[0])*rmax)\n",
    "spec_rad = max(np.abs(eig))\n",
    "print rmax\n",
    "print spec_rad"
   ]
  },
  {
   "cell_type": "code",
   "execution_count": 128,
   "metadata": {},
   "outputs": [
    {
     "name": "stdout",
     "output_type": "stream",
     "text": [
      "1.1994711402007163\n",
      "1.3583648206737668\n"
     ]
    }
   ],
   "source": [
    "D = np.load(\"D_Caribbean_revised.npy\")\n",
    "A = area_matrix_Carib\n",
    "beta =.5\n",
    "w = 3.\n",
    "rmax = 1.5/(np.sqrt(2*np.pi*pow(w,2))) +1\n",
    "D_growth = beta * (D * A)\n",
    "eig  = np.linalg.eigvals(D_growth + np.identity(D.shape[0])*rmax)\n",
    "spec_rad = max(np.abs(eig))\n",
    "print rmax\n",
    "print spec_rad"
   ]
  },
  {
   "cell_type": "code",
   "execution_count": 129,
   "metadata": {},
   "outputs": [
    {
     "name": "stdout",
     "output_type": "stream",
     "text": [
      "1.598413420602149\n",
      "1.8157927626840085\n"
     ]
    }
   ],
   "source": [
    "D = np.load(\"D_Indo_2083_diag.npy\")\n",
    "A = area_matrix_CT\n",
    "beta =.5\n",
    "w = 1.\n",
    "rmax = 1.5/(np.sqrt(2*np.pi*pow(w,2)))+1\n",
    "D_growth = beta * (D * A)\n",
    "eig  = np.linalg.eigvals(D_growth + np.identity(D.shape[0])*rmax)\n",
    "spec_rad = max(np.abs(eig))\n",
    "print rmax\n",
    "print spec_rad"
   ]
  },
  {
   "cell_type": "code",
   "execution_count": 130,
   "metadata": {},
   "outputs": [
    {
     "name": "stdout",
     "output_type": "stream",
     "text": [
      "1.1994711402007163\n",
      "1.8516091664462901\n"
     ]
    }
   ],
   "source": [
    "D = np.load(\"D_Indo_2083_diag.npy\")\n",
    "A = area_matrix_CT\n",
    "beta =1.5\n",
    "w = 3.\n",
    "rmax = 1.5/(np.sqrt(2*np.pi*pow(w,2)))+1\n",
    "D_growth = beta * (D * A)\n",
    "eig  = np.linalg.eigvals(D_growth + np.identity(D.shape[0])*rmax)\n",
    "spec_rad = max(np.abs(eig))\n",
    "print rmax\n",
    "print spec_rad"
   ]
  },
  {
   "cell_type": "code",
   "execution_count": 125,
   "metadata": {},
   "outputs": [
    {
     "name": "stdout",
     "output_type": "stream",
     "text": [
      "1.598413420602149\n",
      "1.598413420602149\n"
     ]
    }
   ],
   "source": [
    "D = np.load(\"D_SWP_2001_revised.npy\")\n",
    "A = area_matrix_SWP\n",
    "beta =0\n",
    "w = 1.\n",
    "rmax = 1.5/(np.sqrt(2*np.pi*pow(w,2))) + 1\n",
    "D_growth = beta * (D * A)\n",
    "eig  = np.linalg.eigvals(D_growth + np.identity(D.shape[0])*rmax)\n",
    "spec_rad = max(np.abs(eig))\n",
    "print rmax\n",
    "print spec_rad"
   ]
  },
  {
   "cell_type": "code",
   "execution_count": 126,
   "metadata": {},
   "outputs": [
    {
     "name": "stdout",
     "output_type": "stream",
     "text": [
      "1.1994711402007163\n",
      "1.1994711402007163\n"
     ]
    }
   ],
   "source": [
    "D = np.load(\"D_SWP_2001_revised.npy\")\n",
    "A = area_matrix_SWP\n",
    "beta = 0\n",
    "w = 3.\n",
    "rmax = 1.5/(np.sqrt(2*np.pi*pow(w,2))) + 1\n",
    "D_growth = beta * (D * A)\n",
    "eig  = np.linalg.eigvals(D_growth + np.identity(D.shape[0])*rmax)\n",
    "spec_rad = max(np.abs(eig))\n",
    "print rmax\n",
    "print spec_rad"
   ]
  },
  {
   "cell_type": "code",
   "execution_count": 137,
   "metadata": {},
   "outputs": [
    {
     "name": "stdout",
     "output_type": "stream",
     "text": [
      "1.2550649400066167\n"
     ]
    }
   ],
   "source": [
    "D = np.load(\"D_SWP_2001_revised.npy\")\n",
    "A = area_matrix_SWP\n",
    "beta = 0.5\n",
    "w = 3.\n",
    "D_growth = beta * (D*A)\n",
    "rmax=1\n",
    "eig  = np.linalg.eigvals(D_growth + np.identity(D.shape[0])*rmax)\n",
    "spec_rad = max(np.abs(eig))\n",
    "print spec_rad"
   ]
  },
  {
   "cell_type": "code",
   "execution_count": 138,
   "metadata": {},
   "outputs": [
    {
     "name": "stdout",
     "output_type": "stream",
     "text": [
      "1.2173793420818555\n"
     ]
    }
   ],
   "source": [
    "D = np.load(\"D_Indo_2083_diag.npy\")\n",
    "beta = 0.5\n",
    "D_growth = beta * (D)\n",
    "rmax=1\n",
    "eig  = np.linalg.eigvals(D_growth + np.identity(D.shape[0])*rmax)\n",
    "spec_rad = max(np.abs(eig))\n",
    "print spec_rad"
   ]
  },
  {
   "cell_type": "code",
   "execution_count": 177,
   "metadata": {},
   "outputs": [
    {
     "name": "stdout",
     "output_type": "stream",
     "text": [
      "0.5984134206021491\n",
      "0.5984134206021491\n"
     ]
    }
   ],
   "source": [
    "D = np.load(\"D_Caribbean_revised.npy\")\n",
    "beta = 0\n",
    "D_growth = beta * (D)\n",
    "w = 1.\n",
    "rmax = 1.5/(np.sqrt(2*np.pi*pow(w,2)))\n",
    "eig  = np.linalg.eigvals(D_growth + np.identity(D.shape[0])*rmax)\n",
    "spec_rad = max(np.abs(eig))\n",
    "print rmax\n",
    "print spec_rad"
   ]
  },
  {
   "cell_type": "code",
   "execution_count": 190,
   "metadata": {},
   "outputs": [
    {
     "name": "stdout",
     "output_type": "stream",
     "text": [
      "0.0\n"
     ]
    },
    {
     "data": {
      "image/png": "[encoded data removed]",
      "text/plain": [
       "<Figure size 432x288 with 1 Axes>"
      ]
     },
     "metadata": {},
     "output_type": "display_data"
    }
   ],
   "source": [
    "D = np.load(\"D_Caribbean_revised.npy\")\n",
    "rmax = 0.6\n",
    "q = D.diagonal()*rmax\n",
    "plt.hist(q)\n",
    "print q.min()"
   ]
  },
  {
   "cell_type": "code",
   "execution_count": 191,
   "metadata": {},
   "outputs": [
    {
     "name": "stdout",
     "output_type": "stream",
     "text": [
      "0.0\n"
     ]
    },
    {
     "data": {
      "image/png": "[encoded data removed]",
      "text/plain": [
       "<Figure size 432x288 with 1 Axes>"
      ]
     },
     "metadata": {},
     "output_type": "display_data"
    }
   ],
   "source": [
    "D = np.load(\"D_Caribbean_revised.npy\")\n",
    "rmax = 0.2\n",
    "q = D.diagonal()*rmax\n",
    "plt.hist(q)\n",
    "print q.min()"
   ]
  },
  {
   "cell_type": "code",
   "execution_count": 185,
   "metadata": {},
   "outputs": [
    {
     "data": {
      "text/plain": [
       "(array([333.,  46.,  14.,  10.,   4.,   3.,   4.,   3.,   4.,   2.]),\n",
       " array([-1.       , -0.9735005, -0.947001 , -0.9205015, -0.894002 ,\n",
       "        -0.8675025, -0.841003 , -0.8145035, -0.788004 , -0.7615045,\n",
       "        -0.735005 ]),\n",
       " <a list of 10 Patch objects>)"
      ]
     },
     "execution_count": 185,
     "metadata": {},
     "output_type": "execute_result"
    },
    {
     "data": {
      "image/png": "[encoded data removed]",
      "text/plain": [
       "<Figure size 432x288 with 1 Axes>"
      ]
     },
     "metadata": {},
     "output_type": "display_data"
    }
   ],
   "source": [
    "D = np.load(\"D_Caribbean_revised.npy\")\n",
    "q = D.diagonal()\n",
    "plt.hist(q)\n",
    "print q.min()"
   ]
  },
  {
   "cell_type": "code",
   "execution_count": 186,
   "metadata": {},
   "outputs": [
    {
     "data": {
      "text/plain": [
       "-0.735005"
      ]
     },
     "execution_count": 186,
     "metadata": {},
     "output_type": "execute_result"
    }
   ],
   "source": [
    "q.max()"
   ]
  },
  {
   "cell_type": "code",
   "execution_count": null,
   "metadata": {},
   "outputs": [],
   "source": []
  }
 ],
 "metadata": {
  "kernelspec": {
   "display_name": "Python 2",
   "language": "python",
   "name": "python2"
  },
  "language_info": {
   "codemirror_mode": {
    "name": "ipython",
    "version": 2
   },
   "file_extension": ".py",
   "mimetype": "text/x-python",
   "name": "python",
   "nbconvert_exporter": "python",
   "pygments_lexer": "ipython2",
   "version": "2.7.15"
  }
 },
 "nbformat": 4,
 "nbformat_minor": 2
}
